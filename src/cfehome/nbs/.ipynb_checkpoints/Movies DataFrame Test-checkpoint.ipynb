{
 "cells": [
  {
   "cell_type": "code",
   "execution_count": 1,
   "id": "731eb349-d398-4a6e-87e6-d3215f33df2c",
   "metadata": {},
   "outputs": [],
   "source": [
    "import setup_django\n",
    "setup_django.init()\n"
   ]
  },
  {
   "cell_type": "code",
   "execution_count": 3,
   "id": "a0f8871e-c1b4-4a1f-bba1-9d1fdd5e9847",
   "metadata": {},
   "outputs": [
    {
     "data": {
      "text/plain": [
       "<MovieQuerySet [{'title': 'The Godfather Part II', 'release_date': datetime.date(1974, 12, 20), 'rating_avg': Decimal('2.63'), 'rating_count': 43}, {'title': 'The Lucky One', 'release_date': datetime.date(2012, 4, 19), 'rating_avg': Decimal('2.85'), 'rating_count': 40}, {'title': 'The Dark Knight', 'release_date': datetime.date(2008, 7, 14), 'rating_avg': Decimal('2.97'), 'rating_count': 36}, {'title': 'Knowing', 'release_date': datetime.date(2009, 3, 19), 'rating_avg': Decimal('3.16'), 'rating_count': 37}, {'title': 'The Adam Project', 'release_date': datetime.date(2022, 3, 11), 'rating_avg': Decimal('3.06'), 'rating_count': 34}, {'title': 'Sholay', 'release_date': datetime.date(1975, 8, 15), 'rating_avg': Decimal('3.37'), 'rating_count': 38}, {'title': 'The Shawshank Redemption', 'release_date': datetime.date(1994, 9, 23), 'rating_avg': Decimal('2.89'), 'rating_count': 36}, {'title': 'Your Name.', 'release_date': datetime.date(2016, 8, 26), 'rating_avg': Decimal('3.27'), 'rating_count': 37}, {'title': 'Spirited Away', 'release_date': datetime.date(2001, 7, 20), 'rating_avg': Decimal('3.27'), 'rating_count': 45}, {'title': \"Gabriel's Inferno: Part II\", 'release_date': datetime.date(2020, 7, 31), 'rating_avg': Decimal('3.03'), 'rating_count': 31}, {'title': \"It's Such a Beautiful Day\", 'release_date': datetime.date(2012, 8, 24), 'rating_avg': Decimal('2.74'), 'rating_count': 34}, {'title': '12 Angry Men', 'release_date': datetime.date(1957, 4, 10), 'rating_avg': Decimal('2.97'), 'rating_count': 37}, {'title': 'Close to the Horizon', 'release_date': datetime.date(2019, 10, 10), 'rating_avg': Decimal('3.38'), 'rating_count': 29}, {'title': 'The War with Grandpa', 'release_date': datetime.date(2020, 8, 27), 'rating_avg': Decimal('3.28'), 'rating_count': 36}, {'title': \"Gabriel's Inferno\", 'release_date': datetime.date(2020, 5, 29), 'rating_avg': Decimal('3.10'), 'rating_count': 39}, {'title': \"Schindler's List\", 'release_date': datetime.date(1993, 12, 15), 'rating_avg': Decimal('2.58'), 'rating_count': 26}, {'title': 'Dilwale Dulhania Le Jayenge', 'release_date': datetime.date(1995, 10, 19), 'rating_avg': Decimal('2.98'), 'rating_count': 45}, {'title': 'Parasite', 'release_date': datetime.date(2019, 5, 30), 'rating_avg': Decimal('3.18'), 'rating_count': 39}, {'title': 'The Green Mile', 'release_date': datetime.date(1999, 12, 10), 'rating_avg': Decimal('2.67'), 'rating_count': 49}, {'title': 'City of God', 'release_date': datetime.date(2002, 2, 5), 'rating_avg': Decimal('3.21'), 'rating_count': 39}, '...(remaining elements truncated)...']>"
      ]
     },
     "execution_count": 3,
     "metadata": {},
     "output_type": "execute_result"
    }
   ],
   "source": [
    "from movies.models import Movie\n",
    "\n",
    "qs = Movie.objects.all().values('title','release_date','rating_avg','rating_count')\n",
    "qs"
   ]
  },
  {
   "cell_type": "code",
   "execution_count": 5,
   "id": "d2a720cb-1552-4050-8e4a-32403bd16481",
   "metadata": {},
   "outputs": [],
   "source": [
    "import pandas as pd"
   ]
  },
  {
   "cell_type": "code",
   "execution_count": 7,
   "id": "532b8722-19d1-42ec-b60a-db20fa1ee511",
   "metadata": {},
   "outputs": [
    {
     "data": {
      "text/html": [
       "<div>\n",
       "<style scoped>\n",
       "    .dataframe tbody tr th:only-of-type {\n",
       "        vertical-align: middle;\n",
       "    }\n",
       "\n",
       "    .dataframe tbody tr th {\n",
       "        vertical-align: top;\n",
       "    }\n",
       "\n",
       "    .dataframe thead th {\n",
       "        text-align: right;\n",
       "    }\n",
       "</style>\n",
       "<table border=\"1\" class=\"dataframe\">\n",
       "  <thead>\n",
       "    <tr style=\"text-align: right;\">\n",
       "      <th></th>\n",
       "      <th>title</th>\n",
       "      <th>release_date</th>\n",
       "      <th>rating_avg</th>\n",
       "      <th>rating_count</th>\n",
       "    </tr>\n",
       "  </thead>\n",
       "  <tbody>\n",
       "    <tr>\n",
       "      <th>0</th>\n",
       "      <td>The Godfather Part II</td>\n",
       "      <td>1974-12-20</td>\n",
       "      <td>2.63</td>\n",
       "      <td>43</td>\n",
       "    </tr>\n",
       "    <tr>\n",
       "      <th>1</th>\n",
       "      <td>The Lucky One</td>\n",
       "      <td>2012-04-19</td>\n",
       "      <td>2.85</td>\n",
       "      <td>40</td>\n",
       "    </tr>\n",
       "    <tr>\n",
       "      <th>2</th>\n",
       "      <td>The Dark Knight</td>\n",
       "      <td>2008-07-14</td>\n",
       "      <td>2.97</td>\n",
       "      <td>36</td>\n",
       "    </tr>\n",
       "    <tr>\n",
       "      <th>3</th>\n",
       "      <td>Knowing</td>\n",
       "      <td>2009-03-19</td>\n",
       "      <td>3.16</td>\n",
       "      <td>37</td>\n",
       "    </tr>\n",
       "    <tr>\n",
       "      <th>4</th>\n",
       "      <td>The Adam Project</td>\n",
       "      <td>2022-03-11</td>\n",
       "      <td>3.06</td>\n",
       "      <td>34</td>\n",
       "    </tr>\n",
       "    <tr>\n",
       "      <th>5</th>\n",
       "      <td>Sholay</td>\n",
       "      <td>1975-08-15</td>\n",
       "      <td>3.37</td>\n",
       "      <td>38</td>\n",
       "    </tr>\n",
       "    <tr>\n",
       "      <th>6</th>\n",
       "      <td>The Shawshank Redemption</td>\n",
       "      <td>1994-09-23</td>\n",
       "      <td>2.89</td>\n",
       "      <td>36</td>\n",
       "    </tr>\n",
       "    <tr>\n",
       "      <th>7</th>\n",
       "      <td>Your Name.</td>\n",
       "      <td>2016-08-26</td>\n",
       "      <td>3.27</td>\n",
       "      <td>37</td>\n",
       "    </tr>\n",
       "    <tr>\n",
       "      <th>8</th>\n",
       "      <td>Spirited Away</td>\n",
       "      <td>2001-07-20</td>\n",
       "      <td>3.27</td>\n",
       "      <td>45</td>\n",
       "    </tr>\n",
       "    <tr>\n",
       "      <th>9</th>\n",
       "      <td>Gabriel's Inferno: Part II</td>\n",
       "      <td>2020-07-31</td>\n",
       "      <td>3.03</td>\n",
       "      <td>31</td>\n",
       "    </tr>\n",
       "  </tbody>\n",
       "</table>\n",
       "</div>"
      ],
      "text/plain": [
       "                        title release_date rating_avg  rating_count\n",
       "0       The Godfather Part II   1974-12-20       2.63            43\n",
       "1               The Lucky One   2012-04-19       2.85            40\n",
       "2             The Dark Knight   2008-07-14       2.97            36\n",
       "3                     Knowing   2009-03-19       3.16            37\n",
       "4            The Adam Project   2022-03-11       3.06            34\n",
       "5                      Sholay   1975-08-15       3.37            38\n",
       "6    The Shawshank Redemption   1994-09-23       2.89            36\n",
       "7                  Your Name.   2016-08-26       3.27            37\n",
       "8               Spirited Away   2001-07-20       3.27            45\n",
       "9  Gabriel's Inferno: Part II   2020-07-31       3.03            31"
      ]
     },
     "execution_count": 7,
     "metadata": {},
     "output_type": "execute_result"
    }
   ],
   "source": [
    "df = pd.DataFrame(qs)\n",
    "df.head(n=10)"
   ]
  },
  {
   "cell_type": "code",
   "execution_count": 8,
   "id": "d8eb6b60-a97b-4212-856f-9d06902d5204",
   "metadata": {},
   "outputs": [
    {
     "data": {
      "text/plain": [
       "{'title': 'Shadows in Paradise',\n",
       " 'release_date': datetime.date(1986, 10, 17),\n",
       " 'rating_avg': Decimal('2.95'),\n",
       " 'rating_count': 38}"
      ]
     },
     "execution_count": 8,
     "metadata": {},
     "output_type": "execute_result"
    }
   ],
   "source": [
    "qs.first()\n"
   ]
  },
  {
   "cell_type": "code",
   "execution_count": null,
   "id": "505298c3-0bfd-4d02-a962-2f0f09fe5ff2",
   "metadata": {},
   "outputs": [],
   "source": []
  }
 ],
 "metadata": {
  "kernelspec": {
   "display_name": "Python 3 (ipykernel)",
   "language": "python",
   "name": "python3"
  },
  "language_info": {
   "codemirror_mode": {
    "name": "ipython",
    "version": 3
   },
   "file_extension": ".py",
   "mimetype": "text/x-python",
   "name": "python",
   "nbconvert_exporter": "python",
   "pygments_lexer": "ipython3",
   "version": "3.11.5"
  }
 },
 "nbformat": 4,
 "nbformat_minor": 5
}
