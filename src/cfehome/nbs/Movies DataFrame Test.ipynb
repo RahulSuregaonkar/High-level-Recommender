{
 "cells": [
  {
   "cell_type": "code",
   "execution_count": 1,
   "id": "731eb349-d398-4a6e-87e6-d3215f33df2c",
   "metadata": {},
   "outputs": [],
   "source": [
    "import setup_django\n",
    "setup_django.init()\n"
   ]
  },
  {
   "cell_type": "code",
   "execution_count": 2,
   "id": "a0f8871e-c1b4-4a1f-bba1-9d1fdd5e9847",
   "metadata": {},
   "outputs": [
    {
     "data": {
      "text/plain": [
       "<MovieQuerySet [{'title': \"Gabriel's Inferno\", 'release_date': datetime.date(2020, 5, 29), 'rating_avg': Decimal('3.12'), 'rating_count': 41}, {'title': \"Gabriel's Inferno: Part II\", 'release_date': datetime.date(2020, 7, 31), 'rating_avg': None, 'rating_count': 0}, {'title': 'Close to the Horizon', 'release_date': datetime.date(2019, 10, 10), 'rating_avg': None, 'rating_count': 0}, {'title': 'The Shawshank Redemption', 'release_date': datetime.date(1994, 9, 23), 'rating_avg': Decimal('3.04'), 'rating_count': 1178}, {'title': 'Spirited Away', 'release_date': datetime.date(2001, 7, 20), 'rating_avg': Decimal('3.21'), 'rating_count': 200}, {'title': 'Parasite', 'release_date': datetime.date(2019, 5, 30), 'rating_avg': Decimal('3.15'), 'rating_count': 40}, {'title': 'Your Name.', 'release_date': datetime.date(2016, 8, 26), 'rating_avg': None, 'rating_count': 0}, {'title': 'The Dark Knight', 'release_date': datetime.date(2008, 7, 14), 'rating_avg': Decimal('3.41'), 'rating_count': 1319}, {'title': 'The Lucky One', 'release_date': datetime.date(2012, 4, 19), 'rating_avg': Decimal('2.85'), 'rating_count': 40}, {'title': 'Sholay', 'release_date': datetime.date(1975, 8, 15), 'rating_avg': None, 'rating_count': 0}, {'title': \"It's Such a Beautiful Day\", 'release_date': datetime.date(2012, 8, 24), 'rating_avg': Decimal('2.72'), 'rating_count': 36}, {'title': 'The Adam Project', 'release_date': datetime.date(2022, 3, 11), 'rating_avg': None, 'rating_count': 0}, {'title': 'The Godfather Part II', 'release_date': datetime.date(1974, 12, 20), 'rating_avg': Decimal('2.93'), 'rating_count': 865}, {'title': 'Dilwale Dulhania Le Jayenge', 'release_date': datetime.date(1995, 10, 19), 'rating_avg': None, 'rating_count': 0}, {'title': 'The War with Grandpa', 'release_date': datetime.date(2020, 8, 27), 'rating_avg': None, 'rating_count': 0}, {'title': 'Knowing', 'release_date': datetime.date(2009, 3, 19), 'rating_avg': None, 'rating_count': 0}, {'title': 'Primal: Tales of Savagery', 'release_date': datetime.date(2019, 11, 21), 'rating_avg': None, 'rating_count': 0}, {'title': 'Once Upon a Time in America', 'release_date': datetime.date(1984, 5, 23), 'rating_avg': Decimal('2.76'), 'rating_count': 86}, {'title': 'Fruitvale Station', 'release_date': datetime.date(2013, 7, 26), 'rating_avg': None, 'rating_count': 0}, {'title': 'New World', 'release_date': datetime.date(2013, 2, 21), 'rating_avg': None, 'rating_count': 0}, '...(remaining elements truncated)...']>"
      ]
     },
     "execution_count": 2,
     "metadata": {},
     "output_type": "execute_result"
    }
   ],
   "source": [
    "from movies.models import Movie\n",
    "\n",
    "qs = Movie.objects.all().values('title','release_date','rating_avg','rating_count')\n",
    "qs"
   ]
  },
  {
   "cell_type": "code",
   "execution_count": 3,
   "id": "d2a720cb-1552-4050-8e4a-32403bd16481",
   "metadata": {},
   "outputs": [],
   "source": [
    "import pandas as pd"
   ]
  },
  {
   "cell_type": "code",
   "execution_count": 4,
   "id": "532b8722-19d1-42ec-b60a-db20fa1ee511",
   "metadata": {},
   "outputs": [
    {
     "data": {
      "text/html": [
       "<div>\n",
       "<style scoped>\n",
       "    .dataframe tbody tr th:only-of-type {\n",
       "        vertical-align: middle;\n",
       "    }\n",
       "\n",
       "    .dataframe tbody tr th {\n",
       "        vertical-align: top;\n",
       "    }\n",
       "\n",
       "    .dataframe thead th {\n",
       "        text-align: right;\n",
       "    }\n",
       "</style>\n",
       "<table border=\"1\" class=\"dataframe\">\n",
       "  <thead>\n",
       "    <tr style=\"text-align: right;\">\n",
       "      <th></th>\n",
       "      <th>title</th>\n",
       "      <th>release_date</th>\n",
       "      <th>rating_avg</th>\n",
       "      <th>rating_count</th>\n",
       "    </tr>\n",
       "  </thead>\n",
       "  <tbody>\n",
       "    <tr>\n",
       "      <th>0</th>\n",
       "      <td>Gabriel's Inferno</td>\n",
       "      <td>2020-05-29</td>\n",
       "      <td>3.12</td>\n",
       "      <td>41</td>\n",
       "    </tr>\n",
       "    <tr>\n",
       "      <th>1</th>\n",
       "      <td>Gabriel's Inferno: Part II</td>\n",
       "      <td>2020-07-31</td>\n",
       "      <td>None</td>\n",
       "      <td>0</td>\n",
       "    </tr>\n",
       "    <tr>\n",
       "      <th>2</th>\n",
       "      <td>Close to the Horizon</td>\n",
       "      <td>2019-10-10</td>\n",
       "      <td>None</td>\n",
       "      <td>0</td>\n",
       "    </tr>\n",
       "    <tr>\n",
       "      <th>3</th>\n",
       "      <td>The Shawshank Redemption</td>\n",
       "      <td>1994-09-23</td>\n",
       "      <td>3.04</td>\n",
       "      <td>1178</td>\n",
       "    </tr>\n",
       "    <tr>\n",
       "      <th>4</th>\n",
       "      <td>Spirited Away</td>\n",
       "      <td>2001-07-20</td>\n",
       "      <td>3.21</td>\n",
       "      <td>200</td>\n",
       "    </tr>\n",
       "    <tr>\n",
       "      <th>5</th>\n",
       "      <td>Parasite</td>\n",
       "      <td>2019-05-30</td>\n",
       "      <td>3.15</td>\n",
       "      <td>40</td>\n",
       "    </tr>\n",
       "    <tr>\n",
       "      <th>6</th>\n",
       "      <td>Your Name.</td>\n",
       "      <td>2016-08-26</td>\n",
       "      <td>None</td>\n",
       "      <td>0</td>\n",
       "    </tr>\n",
       "    <tr>\n",
       "      <th>7</th>\n",
       "      <td>The Dark Knight</td>\n",
       "      <td>2008-07-14</td>\n",
       "      <td>3.41</td>\n",
       "      <td>1319</td>\n",
       "    </tr>\n",
       "    <tr>\n",
       "      <th>8</th>\n",
       "      <td>The Lucky One</td>\n",
       "      <td>2012-04-19</td>\n",
       "      <td>2.85</td>\n",
       "      <td>40</td>\n",
       "    </tr>\n",
       "    <tr>\n",
       "      <th>9</th>\n",
       "      <td>Sholay</td>\n",
       "      <td>1975-08-15</td>\n",
       "      <td>None</td>\n",
       "      <td>0</td>\n",
       "    </tr>\n",
       "  </tbody>\n",
       "</table>\n",
       "</div>"
      ],
      "text/plain": [
       "                        title release_date rating_avg  rating_count\n",
       "0           Gabriel's Inferno   2020-05-29       3.12            41\n",
       "1  Gabriel's Inferno: Part II   2020-07-31       None             0\n",
       "2        Close to the Horizon   2019-10-10       None             0\n",
       "3    The Shawshank Redemption   1994-09-23       3.04          1178\n",
       "4               Spirited Away   2001-07-20       3.21           200\n",
       "5                    Parasite   2019-05-30       3.15            40\n",
       "6                  Your Name.   2016-08-26       None             0\n",
       "7             The Dark Knight   2008-07-14       3.41          1319\n",
       "8               The Lucky One   2012-04-19       2.85            40\n",
       "9                      Sholay   1975-08-15       None             0"
      ]
     },
     "execution_count": 4,
     "metadata": {},
     "output_type": "execute_result"
    }
   ],
   "source": [
    "df = pd.DataFrame(qs)\n",
    "df.head(n=10)"
   ]
  },
  {
   "cell_type": "code",
   "execution_count": 5,
   "id": "d8eb6b60-a97b-4212-856f-9d06902d5204",
   "metadata": {},
   "outputs": [
    {
     "data": {
      "text/plain": [
       "{'title': 'Shadows in Paradise',\n",
       " 'release_date': datetime.date(1986, 10, 17),\n",
       " 'rating_avg': Decimal('3.24'),\n",
       " 'rating_count': 15497}"
      ]
     },
     "execution_count": 5,
     "metadata": {},
     "output_type": "execute_result"
    }
   ],
   "source": [
    "qs.first()\n"
   ]
  },
  {
   "cell_type": "code",
   "execution_count": null,
   "id": "505298c3-0bfd-4d02-a962-2f0f09fe5ff2",
   "metadata": {},
   "outputs": [],
   "source": []
  }
 ],
 "metadata": {
  "kernelspec": {
   "display_name": "Python 3 (ipykernel)",
   "language": "python",
   "name": "python3"
  },
  "language_info": {
   "codemirror_mode": {
    "name": "ipython",
    "version": 3
   },
   "file_extension": ".py",
   "mimetype": "text/x-python",
   "name": "python",
   "nbconvert_exporter": "python",
   "pygments_lexer": "ipython3",
   "version": "3.11.5"
  }
 },
 "nbformat": 4,
 "nbformat_minor": 5
}
